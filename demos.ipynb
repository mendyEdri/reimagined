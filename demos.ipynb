{
 "cells": [
  {
   "cell_type": "markdown",
   "metadata": {},
   "source": [
    "### Storage"
   ]
  },
  {
   "cell_type": "code",
   "execution_count": null,
   "metadata": {},
   "outputs": [],
   "source": [
    "class CookieStorageClient(ClientAgent):\n",
    "    def fileName(self):\n",
    "        return \"CookieStorage.ts\"\n",
    "    \n",
    "    def prompt(self):\n",
    "        return \"Create a storage based on Cookies\"\n",
    "\n",
    "cookieStorage = CookieStorageClient(llm)\n",
    "# cookieStorage.invoke()\n",
    "# cookieStorage.write()\n",
    "cookieStorage.test(\"Create tests suite using jest to make sure if set function can save object with keys: 'userName': string, password: string\")"
   ]
  },
  {
   "cell_type": "code",
   "execution_count": null,
   "metadata": {},
   "outputs": [],
   "source": [
    "class StorageClient(ClientAgent):\n",
    "    def fileName(self):\n",
    "        return \"StorageClient.ts\"\n",
    "    \n",
    "    def prompt(self):\n",
    "        return \"Create a generic local storage for web\"\n",
    "\n",
    "storageClient = StorageClient(llm)\n",
    "storageClient.invoke()\n",
    "storageClient.write()"
   ]
  },
  {
   "cell_type": "code",
   "execution_count": null,
   "metadata": {},
   "outputs": [],
   "source": [
    "class SessionStorageClient(ClientAgent):\n",
    "    def fileName(self):\n",
    "        return \"SessionStorageClient.ts\"\n",
    "    \n",
    "    def prompt(self):\n",
    "        return \"Create a generic session local storage for web\"\n",
    "\n",
    "storageClient = SessionStorageClient(llm)\n",
    "storageClient.invoke()\n",
    "storageClient.write()"
   ]
  },
  {
   "cell_type": "markdown",
   "metadata": {},
   "source": [
    "### Http Client"
   ]
  },
  {
   "cell_type": "code",
   "execution_count": null,
   "metadata": {},
   "outputs": [],
   "source": [
    "class AxiosHttpClient(ClientAgent):\n",
    "  def fileName(self):\n",
    "    return \"AxiosHttpClient.ts\"\n",
    "    \n",
    "  def prompt(self):\n",
    "    return \"Create a generic http client class with method for get post delete using axios.\"\n",
    "\n",
    "axiosClient = AxiosHttpClient(llm)\n",
    "axiosClient.invoke()\n",
    "axiosClient.write()"
   ]
  },
  {
   "cell_type": "code",
   "execution_count": null,
   "metadata": {},
   "outputs": [],
   "source": [
    "axiosClient.update(\"I got this, now fix: Cannot find name 'axios'.ts(2304)\")\n",
    "axiosClient.write()"
   ]
  },
  {
   "cell_type": "code",
   "execution_count": null,
   "metadata": {},
   "outputs": [],
   "source": [
    "class HttpClient(ClientAgent):\n",
    "    def fileName(self):\n",
    "        return \"HttpClient.ts\"\n",
    "    \n",
    "    def prompt(self):\n",
    "        return \"Create a generic http client class with method for get post delete using fetch.\"\n",
    "\n",
    "httpClient = HttpClient(llm)\n",
    "httpClient.invoke()\n",
    "httpClient.write()"
   ]
  },
  {
   "cell_type": "code",
   "execution_count": null,
   "metadata": {},
   "outputs": [],
   "source": [
    "httpClient.test('Make sure the url is being used')"
   ]
  },
  {
   "cell_type": "markdown",
   "metadata": {},
   "source": [
    "### Externals (open)"
   ]
  },
  {
   "cell_type": "code",
   "execution_count": null,
   "metadata": {},
   "outputs": [],
   "source": [
    "class FirebaseClient(ClientAgent):\n",
    "    def fileName(self):\n",
    "        return \"FirebaseClient.ts\"\n",
    "    \n",
    "    def prompt(self):\n",
    "        return \"to establish generic connection with firebase database using firebase typescript sdk.\"\n",
    "        \n",
    "firebaseClient = FirebaseClient(llm)\n",
    "firebaseClient.invoke()\n",
    "firebaseClient.write()"
   ]
  },
  {
   "cell_type": "code",
   "execution_count": null,
   "metadata": {},
   "outputs": [],
   "source": [
    "firebaseClient.update(\"Create new interfaces instead of using any\")\n",
    "firebaseClient.write()"
   ]
  }
 ],
 "metadata": {
  "kernelspec": {
   "display_name": "Python 3",
   "language": "python",
   "name": "python3"
  },
  "language_info": {
   "name": "python",
   "version": "3.11.9"
  }
 },
 "nbformat": 4,
 "nbformat_minor": 2
}
